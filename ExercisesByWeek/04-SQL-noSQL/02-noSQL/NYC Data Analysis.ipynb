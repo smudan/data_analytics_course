{
 "cells": [
  {
   "cell_type": "code",
   "execution_count": 1,
   "metadata": {
    "collapsed": false
   },
   "outputs": [],
   "source": [
    "import pandas as pd\n",
    "import sqlite3"
   ]
  },
  {
   "cell_type": "code",
   "execution_count": 3,
   "metadata": {
    "collapsed": true
   },
   "outputs": [],
   "source": [
    "con = sqlite3.connect('mysqlitedb.db')\n",
    "cursor = con.cursor()"
   ]
  },
  {
   "cell_type": "code",
   "execution_count": 4,
   "metadata": {
    "collapsed": false
   },
   "outputs": [
    {
     "data": {
      "text/plain": [
       "(425768,)"
      ]
     },
     "execution_count": 4,
     "metadata": {},
     "output_type": "execute_result"
    }
   ],
   "source": [
    "cursor.execute('SELECT count(*) FROM nyc_data')\n",
    "cursor.fetchone()"
   ]
  },
  {
   "cell_type": "code",
   "execution_count": 9,
   "metadata": {
    "collapsed": false
   },
   "outputs": [
    {
     "data": {
      "text/plain": [
       "[]"
      ]
     },
     "execution_count": 9,
     "metadata": {},
     "output_type": "execute_result"
    }
   ],
   "source": [
    "cursor.execute(\"\"\"\n",
    "            SELECT sql FROM sqlite_master \n",
    "            WHERE tbl_name = 'table_name' AND type = 'table'\n",
    "            \"\"\")\n",
    "cursor.fetchall()"
   ]
  },
  {
   "cell_type": "code",
   "execution_count": 10,
   "metadata": {
    "collapsed": true
   },
   "outputs": [],
   "source": [
    "cursor.execute(\"PRAGMA table_info(table_name)\")\n",
    "cursor.fetchone()"
   ]
  },
  {
   "cell_type": "code",
   "execution_count": 2,
   "metadata": {
    "collapsed": false
   },
   "outputs": [
    {
     "data": {
      "text/plain": [
       "(425768, 19)"
      ]
     },
     "execution_count": 2,
     "metadata": {},
     "output_type": "execute_result"
    }
   ],
   "source": [
    "from sqlalchemy import create_engine\n",
    "\n",
    "con = create_engine('sqlite:///mysqlitedb.db')\n",
    "df = pd.read_sql_query(\"\"\"SELECT * FROM nyc_data\"\"\", con)\n",
    "df.shape"
   ]
  },
  {
   "cell_type": "code",
   "execution_count": 23,
   "metadata": {
    "collapsed": false
   },
   "outputs": [
    {
     "data": {
      "text/plain": [
       "Index(['index', 'CAMIS', 'DBA', 'BORO', 'BUILDING', 'STREET', 'ZIPCODE',\n",
       "       'PHONE', 'CUISINE DESCRIPTION', 'INSPECTION DATE', 'ACTION',\n",
       "       'VIOLATION CODE', 'VIOLATION DESCRIPTION', 'CRITICAL FLAG', 'SCORE',\n",
       "       'GRADE', 'GRADE DATE', 'RECORD DATE', 'INSPECTION TYPE'],\n",
       "      dtype='object')"
      ]
     },
     "execution_count": 23,
     "metadata": {},
     "output_type": "execute_result"
    }
   ],
   "source": [
    "df.columns"
   ]
  },
  {
   "cell_type": "code",
   "execution_count": 7,
   "metadata": {
    "collapsed": false
   },
   "outputs": [],
   "source": [
    "from matplotlib import pyplot as plt\n",
    "%matplotlib inline"
   ]
  },
  {
   "cell_type": "code",
   "execution_count": null,
   "metadata": {
    "collapsed": true
   },
   "outputs": [],
   "source": [
    "import plotly"
   ]
  },
  {
   "cell_type": "code",
   "execution_count": 31,
   "metadata": {
    "collapsed": true
   },
   "outputs": [],
   "source": [
    "import datetime as dt\n",
    "from IPython.display import display\n",
    "\n",
    "import plotly.plotly as py # interactive graphing\n",
    "from plotly.graph_objs import Bar, Scatter, Marker, Layout "
   ]
  },
  {
   "cell_type": "code",
   "execution_count": 17,
   "metadata": {
    "collapsed": false
   },
   "outputs": [
    {
     "data": {
      "text/html": [
       "<div>\n",
       "<table border=\"1\" class=\"dataframe\">\n",
       "  <thead>\n",
       "    <tr style=\"text-align: right;\">\n",
       "      <th></th>\n",
       "      <th>index</th>\n",
       "      <th>CAMIS</th>\n",
       "      <th>DBA</th>\n",
       "      <th>BORO</th>\n",
       "      <th>BUILDING</th>\n",
       "      <th>STREET</th>\n",
       "      <th>ZIPCODE</th>\n",
       "      <th>PHONE</th>\n",
       "      <th>CUISINE DESCRIPTION</th>\n",
       "      <th>INSPECTION DATE</th>\n",
       "      <th>ACTION</th>\n",
       "      <th>VIOLATION CODE</th>\n",
       "      <th>VIOLATION DESCRIPTION</th>\n",
       "      <th>CRITICAL FLAG</th>\n",
       "      <th>SCORE</th>\n",
       "      <th>GRADE</th>\n",
       "      <th>GRADE DATE</th>\n",
       "      <th>RECORD DATE</th>\n",
       "      <th>INSPECTION TYPE</th>\n",
       "    </tr>\n",
       "  </thead>\n",
       "  <tbody>\n",
       "    <tr>\n",
       "      <th>0</th>\n",
       "      <td>0</td>\n",
       "      <td>41244379</td>\n",
       "      <td>LA UNION RESTAURANT</td>\n",
       "      <td>QUEENS</td>\n",
       "      <td>9118</td>\n",
       "      <td>CORONA AVENUE</td>\n",
       "      <td>11373.0</td>\n",
       "      <td>7185922786</td>\n",
       "      <td>Peruvian</td>\n",
       "      <td>03/13/2014</td>\n",
       "      <td>Violations were cited in the following area(s).</td>\n",
       "      <td>10F</td>\n",
       "      <td>Non-food contact surface improperly constructe...</td>\n",
       "      <td>Not Critical</td>\n",
       "      <td>12.0</td>\n",
       "      <td>A</td>\n",
       "      <td>03/13/2014</td>\n",
       "      <td>03/16/2017</td>\n",
       "      <td>Cycle Inspection / Re-inspection</td>\n",
       "    </tr>\n",
       "    <tr>\n",
       "      <th>1</th>\n",
       "      <td>1</td>\n",
       "      <td>41609062</td>\n",
       "      <td>PARADISE CAFE NY RESTAURANT</td>\n",
       "      <td>BRONX</td>\n",
       "      <td>1021</td>\n",
       "      <td>OGDEN AVENUE</td>\n",
       "      <td>10452.0</td>\n",
       "      <td>7185376675</td>\n",
       "      <td>Spanish</td>\n",
       "      <td>01/06/2015</td>\n",
       "      <td>Violations were cited in the following area(s).</td>\n",
       "      <td>16B</td>\n",
       "      <td>The original nutritional fact labels and/or in...</td>\n",
       "      <td>Not Critical</td>\n",
       "      <td>NaN</td>\n",
       "      <td>None</td>\n",
       "      <td>None</td>\n",
       "      <td>03/16/2017</td>\n",
       "      <td>Trans Fat / Initial Inspection</td>\n",
       "    </tr>\n",
       "    <tr>\n",
       "      <th>2</th>\n",
       "      <td>2</td>\n",
       "      <td>50036606</td>\n",
       "      <td>MAGIC GYRO</td>\n",
       "      <td>BROOKLYN</td>\n",
       "      <td>2943</td>\n",
       "      <td>STILLWELL AVE</td>\n",
       "      <td>11224.0</td>\n",
       "      <td>7183738400</td>\n",
       "      <td>Turkish</td>\n",
       "      <td>09/28/2015</td>\n",
       "      <td>Violations were cited in the following area(s).</td>\n",
       "      <td>10F</td>\n",
       "      <td>Non-food contact surface improperly constructe...</td>\n",
       "      <td>Not Critical</td>\n",
       "      <td>2.0</td>\n",
       "      <td>None</td>\n",
       "      <td>None</td>\n",
       "      <td>03/16/2017</td>\n",
       "      <td>Pre-permit (Non-operational) / Initial Inspection</td>\n",
       "    </tr>\n",
       "    <tr>\n",
       "      <th>3</th>\n",
       "      <td>3</td>\n",
       "      <td>41641198</td>\n",
       "      <td>Urban Vegan Kitchen</td>\n",
       "      <td>MANHATTAN</td>\n",
       "      <td>4143</td>\n",
       "      <td>CARMINE STREET</td>\n",
       "      <td>10014.0</td>\n",
       "      <td>6464389939</td>\n",
       "      <td>Vegetarian</td>\n",
       "      <td>05/03/2014</td>\n",
       "      <td>Establishment Closed by DOHMH.  Violations wer...</td>\n",
       "      <td>08A</td>\n",
       "      <td>Facility not vermin proof. Harborage or condit...</td>\n",
       "      <td>Not Critical</td>\n",
       "      <td>74.0</td>\n",
       "      <td>None</td>\n",
       "      <td>None</td>\n",
       "      <td>03/16/2017</td>\n",
       "      <td>Cycle Inspection / Re-inspection</td>\n",
       "    </tr>\n",
       "    <tr>\n",
       "      <th>4</th>\n",
       "      <td>4</td>\n",
       "      <td>50034545</td>\n",
       "      <td>YUPDDUK</td>\n",
       "      <td>QUEENS</td>\n",
       "      <td>15722</td>\n",
       "      <td>NORTHERN BLVD</td>\n",
       "      <td>11354.0</td>\n",
       "      <td>7183530081</td>\n",
       "      <td>Korean</td>\n",
       "      <td>01/07/2016</td>\n",
       "      <td>Violations were cited in the following area(s).</td>\n",
       "      <td>04L</td>\n",
       "      <td>Evidence of mice or live mice present in facil...</td>\n",
       "      <td>Critical</td>\n",
       "      <td>13.0</td>\n",
       "      <td>None</td>\n",
       "      <td>None</td>\n",
       "      <td>03/16/2017</td>\n",
       "      <td>Cycle Inspection / Initial Inspection</td>\n",
       "    </tr>\n",
       "  </tbody>\n",
       "</table>\n",
       "</div>"
      ],
      "text/plain": [
       "   index     CAMIS                          DBA       BORO BUILDING  \\\n",
       "0      0  41244379          LA UNION RESTAURANT     QUEENS     9118   \n",
       "1      1  41609062  PARADISE CAFE NY RESTAURANT      BRONX     1021   \n",
       "2      2  50036606                   MAGIC GYRO   BROOKLYN     2943   \n",
       "3      3  41641198          Urban Vegan Kitchen  MANHATTAN     4143   \n",
       "4      4  50034545                      YUPDDUK     QUEENS    15722   \n",
       "\n",
       "           STREET  ZIPCODE       PHONE CUISINE DESCRIPTION INSPECTION DATE  \\\n",
       "0   CORONA AVENUE  11373.0  7185922786            Peruvian      03/13/2014   \n",
       "1    OGDEN AVENUE  10452.0  7185376675             Spanish      01/06/2015   \n",
       "2   STILLWELL AVE  11224.0  7183738400             Turkish      09/28/2015   \n",
       "3  CARMINE STREET  10014.0  6464389939          Vegetarian      05/03/2014   \n",
       "4   NORTHERN BLVD  11354.0  7183530081              Korean      01/07/2016   \n",
       "\n",
       "                                              ACTION VIOLATION CODE  \\\n",
       "0    Violations were cited in the following area(s).            10F   \n",
       "1    Violations were cited in the following area(s).            16B   \n",
       "2    Violations were cited in the following area(s).            10F   \n",
       "3  Establishment Closed by DOHMH.  Violations wer...            08A   \n",
       "4    Violations were cited in the following area(s).            04L   \n",
       "\n",
       "                               VIOLATION DESCRIPTION CRITICAL FLAG  SCORE  \\\n",
       "0  Non-food contact surface improperly constructe...  Not Critical   12.0   \n",
       "1  The original nutritional fact labels and/or in...  Not Critical    NaN   \n",
       "2  Non-food contact surface improperly constructe...  Not Critical    2.0   \n",
       "3  Facility not vermin proof. Harborage or condit...  Not Critical   74.0   \n",
       "4  Evidence of mice or live mice present in facil...      Critical   13.0   \n",
       "\n",
       "  GRADE  GRADE DATE RECORD DATE  \\\n",
       "0     A  03/13/2014  03/16/2017   \n",
       "1  None        None  03/16/2017   \n",
       "2  None        None  03/16/2017   \n",
       "3  None        None  03/16/2017   \n",
       "4  None        None  03/16/2017   \n",
       "\n",
       "                                     INSPECTION TYPE  \n",
       "0                   Cycle Inspection / Re-inspection  \n",
       "1                     Trans Fat / Initial Inspection  \n",
       "2  Pre-permit (Non-operational) / Initial Inspection  \n",
       "3                   Cycle Inspection / Re-inspection  \n",
       "4              Cycle Inspection / Initial Inspection  "
      ]
     },
     "execution_count": 17,
     "metadata": {},
     "output_type": "execute_result"
    }
   ],
   "source": [
    "df.head()"
   ]
  },
  {
   "cell_type": "code",
   "execution_count": 55,
   "metadata": {
    "collapsed": false
   },
   "outputs": [
    {
     "data": {
      "text/plain": [
       "20773"
      ]
     },
     "execution_count": 55,
     "metadata": {},
     "output_type": "execute_result"
    }
   ],
   "source": [
    "len(df.DBA.unique())"
   ]
  },
  {
   "cell_type": "code",
   "execution_count": 4,
   "metadata": {
    "collapsed": false
   },
   "outputs": [
    {
     "data": {
      "text/plain": [
       "DBA\n",
       "DUNKIN' DONUTS                    4481\n",
       "SUBWAY                            4177\n",
       "MCDONALD'S                        3072\n",
       "STARBUCKS                         2286\n",
       "DUNKIN' DONUTS, BASKIN ROBBINS    1547\n",
       "Name: CAMIS, dtype: int64"
      ]
     },
     "execution_count": 4,
     "metadata": {},
     "output_type": "execute_result"
    }
   ],
   "source": [
    "df.groupby('DBA')['CAMIS'].count().sort_values(ascending=False).head()"
   ]
  },
  {
   "cell_type": "code",
   "execution_count": 28,
   "metadata": {
    "collapsed": true
   },
   "outputs": [],
   "source": [
    "import html5lib"
   ]
  },
  {
   "cell_type": "code",
   "execution_count": 9,
   "metadata": {
    "collapsed": false
   },
   "outputs": [
    {
     "data": {
      "text/plain": [
       "array([[<matplotlib.axes._subplots.AxesSubplot object at 0x11f4c6748>]], dtype=object)"
      ]
     },
     "execution_count": 9,
     "metadata": {},
     "output_type": "execute_result"
    },
    {
     "data": {
      "image/png": "[encoded data removed]",
      "text/plain": [
       "<matplotlib.figure.Figure at 0x11d513630>"
      ]
     },
     "metadata": {},
     "output_type": "display_data"
    }
   ],
   "source": [
    "df.hist('SCORE', bins=50)"
   ]
  },
  {
   "cell_type": "code",
   "execution_count": 13,
   "metadata": {
    "collapsed": false
   },
   "outputs": [
    {
     "data": {
      "text/plain": [
       "<matplotlib.axes._subplots.AxesSubplot at 0x12ed71710>"
      ]
     },
     "execution_count": 13,
     "metadata": {},
     "output_type": "execute_result"
    },
    {
     "data": {
      "image/png": "[encoded data removed]",
      "text/plain": [
       "<matplotlib.figure.Figure at 0x12dd7f6a0>"
      ]
     },
     "metadata": {},
     "output_type": "display_data"
    }
   ],
   "source": [
    "df.boxplot('SCORE', by='BORO')"
   ]
  },
  {
   "cell_type": "code",
   "execution_count": 2,
   "metadata": {
    "collapsed": true
   },
   "outputs": [
    {
     "ename": "ValueError",
     "evalue": "No tables found",
     "output_type": "error",
     "traceback": [
      "\u001b[0;31m---------------------------------------------------------------------------\u001b[0m",
      "\u001b[0;31mValueError\u001b[0m                                Traceback (most recent call last)",
      "\u001b[0;32m<ipython-input-2-c33dc650a68a>\u001b[0m in \u001b[0;36m<module>\u001b[0;34m()\u001b[0m\n\u001b[0;32m----> 1\u001b[0;31m \u001b[0meateries\u001b[0m \u001b[0;34m=\u001b[0m \u001b[0mpd\u001b[0m\u001b[0;34m.\u001b[0m\u001b[0mread_html\u001b[0m\u001b[0;34m(\u001b[0m\u001b[0;34m'~/Downloads/DPR_eateries_001.xml'\u001b[0m\u001b[0;34m,\u001b[0m \u001b[0;34m'xml.parser'\u001b[0m\u001b[0;34m)\u001b[0m\u001b[0;34m\u001b[0m\u001b[0m\n\u001b[0m",
      "\u001b[0;32m/Users/dpl/anaconda3/lib/python3.6/site-packages/pandas/io/html.py\u001b[0m in \u001b[0;36mread_html\u001b[0;34m(io, match, flavor, header, index_col, skiprows, attrs, parse_dates, tupleize_cols, thousands, encoding, decimal, converters, na_values, keep_default_na)\u001b[0m\n\u001b[1;32m    894\u001b[0m                   \u001b[0mthousands\u001b[0m\u001b[0;34m=\u001b[0m\u001b[0mthousands\u001b[0m\u001b[0;34m,\u001b[0m \u001b[0mattrs\u001b[0m\u001b[0;34m=\u001b[0m\u001b[0mattrs\u001b[0m\u001b[0;34m,\u001b[0m \u001b[0mencoding\u001b[0m\u001b[0;34m=\u001b[0m\u001b[0mencoding\u001b[0m\u001b[0;34m,\u001b[0m\u001b[0;34m\u001b[0m\u001b[0m\n\u001b[1;32m    895\u001b[0m                   \u001b[0mdecimal\u001b[0m\u001b[0;34m=\u001b[0m\u001b[0mdecimal\u001b[0m\u001b[0;34m,\u001b[0m \u001b[0mconverters\u001b[0m\u001b[0;34m=\u001b[0m\u001b[0mconverters\u001b[0m\u001b[0;34m,\u001b[0m \u001b[0mna_values\u001b[0m\u001b[0;34m=\u001b[0m\u001b[0mna_values\u001b[0m\u001b[0;34m,\u001b[0m\u001b[0;34m\u001b[0m\u001b[0m\n\u001b[0;32m--> 896\u001b[0;31m                   keep_default_na=keep_default_na)\n\u001b[0m",
      "\u001b[0;32m/Users/dpl/anaconda3/lib/python3.6/site-packages/pandas/io/html.py\u001b[0m in \u001b[0;36m_parse\u001b[0;34m(flavor, io, match, attrs, encoding, **kwargs)\u001b[0m\n\u001b[1;32m    731\u001b[0m             \u001b[0;32mbreak\u001b[0m\u001b[0;34m\u001b[0m\u001b[0m\n\u001b[1;32m    732\u001b[0m     \u001b[0;32melse\u001b[0m\u001b[0;34m:\u001b[0m\u001b[0;34m\u001b[0m\u001b[0m\n\u001b[0;32m--> 733\u001b[0;31m         \u001b[0mraise_with_traceback\u001b[0m\u001b[0;34m(\u001b[0m\u001b[0mretained\u001b[0m\u001b[0;34m)\u001b[0m\u001b[0;34m\u001b[0m\u001b[0m\n\u001b[0m\u001b[1;32m    734\u001b[0m \u001b[0;34m\u001b[0m\u001b[0m\n\u001b[1;32m    735\u001b[0m     \u001b[0mret\u001b[0m \u001b[0;34m=\u001b[0m \u001b[0;34m[\u001b[0m\u001b[0;34m]\u001b[0m\u001b[0;34m\u001b[0m\u001b[0m\n",
      "\u001b[0;32m/Users/dpl/anaconda3/lib/python3.6/site-packages/pandas/compat/__init__.py\u001b[0m in \u001b[0;36mraise_with_traceback\u001b[0;34m(exc, traceback)\u001b[0m\n\u001b[1;32m    338\u001b[0m         \u001b[0;32mif\u001b[0m \u001b[0mtraceback\u001b[0m \u001b[0;34m==\u001b[0m \u001b[0mEllipsis\u001b[0m\u001b[0;34m:\u001b[0m\u001b[0;34m\u001b[0m\u001b[0m\n\u001b[1;32m    339\u001b[0m             \u001b[0m_\u001b[0m\u001b[0;34m,\u001b[0m \u001b[0m_\u001b[0m\u001b[0;34m,\u001b[0m \u001b[0mtraceback\u001b[0m \u001b[0;34m=\u001b[0m \u001b[0msys\u001b[0m\u001b[0;34m.\u001b[0m\u001b[0mexc_info\u001b[0m\u001b[0;34m(\u001b[0m\u001b[0;34m)\u001b[0m\u001b[0;34m\u001b[0m\u001b[0m\n\u001b[0;32m--> 340\u001b[0;31m         \u001b[0;32mraise\u001b[0m \u001b[0mexc\u001b[0m\u001b[0;34m.\u001b[0m\u001b[0mwith_traceback\u001b[0m\u001b[0;34m(\u001b[0m\u001b[0mtraceback\u001b[0m\u001b[0;34m)\u001b[0m\u001b[0;34m\u001b[0m\u001b[0m\n\u001b[0m\u001b[1;32m    341\u001b[0m \u001b[0;32melse\u001b[0m\u001b[0;34m:\u001b[0m\u001b[0;34m\u001b[0m\u001b[0m\n\u001b[1;32m    342\u001b[0m     \u001b[0;31m# this version of raise is a syntax error in Python 3\u001b[0m\u001b[0;34m\u001b[0m\u001b[0;34m\u001b[0m\u001b[0m\n",
      "\u001b[0;31mValueError\u001b[0m: No tables found"
     ]
    }
   ],
   "source": [
    "eateries = pd.read_html('~/Downloads/DPR_eateries_001.xml', 'xml.parser')"
   ]
  },
  {
   "cell_type": "code",
   "execution_count": 19,
   "metadata": {
    "collapsed": false
   },
   "outputs": [
    {
     "data": {
      "text/plain": [
       "BORO\n",
       "BRONX             37617\n",
       "BROOKLYN         104670\n",
       "MANHATTAN        170056\n",
       "Missing              52\n",
       "QUEENS            98775\n",
       "STATEN ISLAND     14598\n",
       "Name: CAMIS, dtype: int64"
      ]
     },
     "execution_count": 19,
     "metadata": {},
     "output_type": "execute_result"
    }
   ],
   "source": [
    "df.groupby('BORO')['CAMIS'].count()"
   ]
  },
  {
   "cell_type": "code",
   "execution_count": 23,
   "metadata": {
    "collapsed": false
   },
   "outputs": [
    {
     "data": {
      "text/plain": [
       "[(0, 'index'),\n",
       " (1, 'CAMIS'),\n",
       " (2, 'DBA'),\n",
       " (3, 'BORO'),\n",
       " (4, 'BUILDING'),\n",
       " (5, 'STREET'),\n",
       " (6, 'ZIPCODE'),\n",
       " (7, 'PHONE'),\n",
       " (8, 'CUISINE DESCRIPTION'),\n",
       " (9, 'INSPECTION DATE'),\n",
       " (10, 'ACTION'),\n",
       " (11, 'VIOLATION CODE'),\n",
       " (12, 'VIOLATION DESCRIPTION'),\n",
       " (13, 'CRITICAL FLAG'),\n",
       " (14, 'SCORE'),\n",
       " (15, 'GRADE'),\n",
       " (16, 'GRADE DATE'),\n",
       " (17, 'RECORD DATE'),\n",
       " (18, 'INSPECTION TYPE')]"
      ]
     },
     "execution_count": 23,
     "metadata": {},
     "output_type": "execute_result"
    }
   ],
   "source": [
    "list(zip(range(len(df.columns)), df.columns))"
   ]
  },
  {
   "cell_type": "code",
   "execution_count": null,
   "metadata": {
    "collapsed": true
   },
   "outputs": [],
   "source": [
    "plot_def = {\n",
    "    'data': [Bar(x=df['ComplaintType'], y=df.num_complaints)],\n",
    "    'layout': { \n",
    "        'margin': {'b': 150}, # Make the bottom margin a bit bigger to handle the long text\n",
    "        'xaxis': {'tickangle': 40}} # Angle the labels a bit\n",
    "}"
   ]
  },
  {
   "cell_type": "code",
   "execution_count": 3,
   "metadata": {
    "collapsed": true
   },
   "outputs": [],
   "source": [
    "import xml.etree.ElementTree as ET\n",
    "from lxml import etree\n",
    "import pandas as pd\n",
    "\n",
    "def xml2df(xml_data):\n",
    "    tree = ET.parse(xml_data)\n",
    "    root = tree.getroot()\n",
    "    all_records = []\n",
    "    headers = []\n",
    "    for i, child in enumerate(root):\n",
    "        record = []\n",
    "        for subchild in child:\n",
    "            record.append(subchild.text)\n",
    "            if subchild.tag not in headers:\n",
    "                headers.append(subchild.tag)\n",
    "        all_records.append(record)\n",
    "    return pd.DataFrame(all_records, columns=headers)"
   ]
  },
  {
   "cell_type": "code",
   "execution_count": 8,
   "metadata": {
    "collapsed": false
   },
   "outputs": [],
   "source": [
    "eateries = xml2df('/Users/dpl/Downloads/DPR_Eateries_001.xml')"
   ]
  },
  {
   "cell_type": "code",
   "execution_count": 9,
   "metadata": {
    "collapsed": false
   },
   "outputs": [
    {
     "data": {
      "text/plain": [
       "Index(['{http://www.nycgovparks.org/bigapps/desc/DPR_Eateries_001.txt}name',\n",
       "       '{http://www.nycgovparks.org/bigapps/desc/DPR_Eateries_001.txt}location',\n",
       "       '{http://www.nycgovparks.org/bigapps/desc/DPR_Eateries_001.txt}park_id',\n",
       "       '{http://www.nycgovparks.org/bigapps/desc/DPR_Eateries_001.txt}start_date',\n",
       "       '{http://www.nycgovparks.org/bigapps/desc/DPR_Eateries_001.txt}end_date',\n",
       "       '{http://www.nycgovparks.org/bigapps/desc/DPR_Eateries_001.txt}description',\n",
       "       '{http://www.nycgovparks.org/bigapps/desc/DPR_Eateries_001.txt}permit_number',\n",
       "       '{http://www.nycgovparks.org/bigapps/desc/DPR_Eateries_001.txt}phone',\n",
       "       '{http://www.nycgovparks.org/bigapps/desc/DPR_Eateries_001.txt}website',\n",
       "       '{http://www.nycgovparks.org/bigapps/desc/DPR_Eateries_001.txt}type_name'],\n",
       "      dtype='object')"
      ]
     },
     "execution_count": 9,
     "metadata": {},
     "output_type": "execute_result"
    }
   ],
   "source": [
    "eateries.columns"
   ]
  },
  {
   "cell_type": "code",
   "execution_count": 10,
   "metadata": {
    "collapsed": false
   },
   "outputs": [
    {
     "data": {
      "text/html": [
       "<div>\n",
       "<table border=\"1\" class=\"dataframe\">\n",
       "  <thead>\n",
       "    <tr style=\"text-align: right;\">\n",
       "      <th></th>\n",
       "      <th>{http://www.nycgovparks.org/bigapps/desc/DPR_Eateries_001.txt}name</th>\n",
       "      <th>{http://www.nycgovparks.org/bigapps/desc/DPR_Eateries_001.txt}location</th>\n",
       "      <th>{http://www.nycgovparks.org/bigapps/desc/DPR_Eateries_001.txt}park_id</th>\n",
       "      <th>{http://www.nycgovparks.org/bigapps/desc/DPR_Eateries_001.txt}start_date</th>\n",
       "      <th>{http://www.nycgovparks.org/bigapps/desc/DPR_Eateries_001.txt}end_date</th>\n",
       "      <th>{http://www.nycgovparks.org/bigapps/desc/DPR_Eateries_001.txt}description</th>\n",
       "      <th>{http://www.nycgovparks.org/bigapps/desc/DPR_Eateries_001.txt}permit_number</th>\n",
       "      <th>{http://www.nycgovparks.org/bigapps/desc/DPR_Eateries_001.txt}phone</th>\n",
       "      <th>{http://www.nycgovparks.org/bigapps/desc/DPR_Eateries_001.txt}website</th>\n",
       "      <th>{http://www.nycgovparks.org/bigapps/desc/DPR_Eateries_001.txt}type_name</th>\n",
       "    </tr>\n",
       "  </thead>\n",
       "  <tbody>\n",
       "    <tr>\n",
       "      <th>0</th>\n",
       "      <td>Central Park Food Cart</td>\n",
       "      <td>At the entrance to the path leading to the Pon...</td>\n",
       "      <td>M010</td>\n",
       "      <td>2014-01-01</td>\n",
       "      <td>2018-12-31</td>\n",
       "      <td>None</td>\n",
       "      <td>M10-61-ED-C</td>\n",
       "      <td>None</td>\n",
       "      <td>None</td>\n",
       "      <td>Food Cart</td>\n",
       "    </tr>\n",
       "    <tr>\n",
       "      <th>1</th>\n",
       "      <td>Central Park Food Cart</td>\n",
       "      <td>At the intersection of paths, east side of Eas...</td>\n",
       "      <td>M010</td>\n",
       "      <td>2013-03-08</td>\n",
       "      <td>2016-12-31</td>\n",
       "      <td>None</td>\n",
       "      <td>M10-70-ED-C</td>\n",
       "      <td>None</td>\n",
       "      <td>None</td>\n",
       "      <td>Food Cart</td>\n",
       "    </tr>\n",
       "    <tr>\n",
       "      <th>2</th>\n",
       "      <td>Central Park Food Cart</td>\n",
       "      <td>Central Park Mall Area, northwest side of the ...</td>\n",
       "      <td>M010</td>\n",
       "      <td>2010-02-23</td>\n",
       "      <td>2014-12-31</td>\n",
       "      <td>None</td>\n",
       "      <td>M10-72-1A-C</td>\n",
       "      <td>None</td>\n",
       "      <td>None</td>\n",
       "      <td>Food Cart</td>\n",
       "    </tr>\n",
       "    <tr>\n",
       "      <th>3</th>\n",
       "      <td>Central Park Food Cart</td>\n",
       "      <td>West 72 Street path, west of Daniel Webster</td>\n",
       "      <td>M010</td>\n",
       "      <td>2010-03-25</td>\n",
       "      <td>2014-12-31</td>\n",
       "      <td>None</td>\n",
       "      <td>M10-72-3-C</td>\n",
       "      <td>None</td>\n",
       "      <td>None</td>\n",
       "      <td>Food Cart</td>\n",
       "    </tr>\n",
       "    <tr>\n",
       "      <th>4</th>\n",
       "      <td>Central Park Food Cart</td>\n",
       "      <td>East Drive and 72 Street</td>\n",
       "      <td>M010</td>\n",
       "      <td>2015-06-27</td>\n",
       "      <td>2019-12-31</td>\n",
       "      <td>None</td>\n",
       "      <td>M10-72-ED-C</td>\n",
       "      <td>None</td>\n",
       "      <td>None</td>\n",
       "      <td>Food Cart</td>\n",
       "    </tr>\n",
       "  </tbody>\n",
       "</table>\n",
       "</div>"
      ],
      "text/plain": [
       "  {http://www.nycgovparks.org/bigapps/desc/DPR_Eateries_001.txt}name  \\\n",
       "0                             Central Park Food Cart                   \n",
       "1                             Central Park Food Cart                   \n",
       "2                             Central Park Food Cart                   \n",
       "3                             Central Park Food Cart                   \n",
       "4                             Central Park Food Cart                   \n",
       "\n",
       "  {http://www.nycgovparks.org/bigapps/desc/DPR_Eateries_001.txt}location  \\\n",
       "0  At the entrance to the path leading to the Pon...                       \n",
       "1  At the intersection of paths, east side of Eas...                       \n",
       "2  Central Park Mall Area, northwest side of the ...                       \n",
       "3        West 72 Street path, west of Daniel Webster                       \n",
       "4                           East Drive and 72 Street                       \n",
       "\n",
       "  {http://www.nycgovparks.org/bigapps/desc/DPR_Eateries_001.txt}park_id  \\\n",
       "0                                               M010                      \n",
       "1                                               M010                      \n",
       "2                                               M010                      \n",
       "3                                               M010                      \n",
       "4                                               M010                      \n",
       "\n",
       "  {http://www.nycgovparks.org/bigapps/desc/DPR_Eateries_001.txt}start_date  \\\n",
       "0                                         2014-01-01                         \n",
       "1                                         2013-03-08                         \n",
       "2                                         2010-02-23                         \n",
       "3                                         2010-03-25                         \n",
       "4                                         2015-06-27                         \n",
       "\n",
       "  {http://www.nycgovparks.org/bigapps/desc/DPR_Eateries_001.txt}end_date  \\\n",
       "0                                         2018-12-31                       \n",
       "1                                         2016-12-31                       \n",
       "2                                         2014-12-31                       \n",
       "3                                         2014-12-31                       \n",
       "4                                         2019-12-31                       \n",
       "\n",
       "  {http://www.nycgovparks.org/bigapps/desc/DPR_Eateries_001.txt}description  \\\n",
       "0                                               None                          \n",
       "1                                               None                          \n",
       "2                                               None                          \n",
       "3                                               None                          \n",
       "4                                               None                          \n",
       "\n",
       "  {http://www.nycgovparks.org/bigapps/desc/DPR_Eateries_001.txt}permit_number  \\\n",
       "0                                        M10-61-ED-C                            \n",
       "1                                        M10-70-ED-C                            \n",
       "2                                        M10-72-1A-C                            \n",
       "3                                         M10-72-3-C                            \n",
       "4                                        M10-72-ED-C                            \n",
       "\n",
       "  {http://www.nycgovparks.org/bigapps/desc/DPR_Eateries_001.txt}phone  \\\n",
       "0                                               None                    \n",
       "1                                               None                    \n",
       "2                                               None                    \n",
       "3                                               None                    \n",
       "4                                               None                    \n",
       "\n",
       "  {http://www.nycgovparks.org/bigapps/desc/DPR_Eateries_001.txt}website  \\\n",
       "0                                               None                      \n",
       "1                                               None                      \n",
       "2                                               None                      \n",
       "3                                               None                      \n",
       "4                                               None                      \n",
       "\n",
       "  {http://www.nycgovparks.org/bigapps/desc/DPR_Eateries_001.txt}type_name  \n",
       "0                                          Food Cart                       \n",
       "1                                          Food Cart                       \n",
       "2                                          Food Cart                       \n",
       "3                                          Food Cart                       \n",
       "4                                          Food Cart                       "
      ]
     },
     "execution_count": 10,
     "metadata": {},
     "output_type": "execute_result"
    }
   ],
   "source": [
    "eateries.head()"
   ]
  },
  {
   "cell_type": "code",
   "execution_count": 14,
   "metadata": {
    "collapsed": false
   },
   "outputs": [],
   "source": [
    "eateries.columns = list(map(lambda x: x.replace('{http://www.nycgovparks.org/bigapps/desc/DPR_Eateries_001.txt}', ''), eateries.columns))"
   ]
  },
  {
   "cell_type": "code",
   "execution_count": 15,
   "metadata": {
    "collapsed": false
   },
   "outputs": [
    {
     "data": {
      "text/html": [
       "<div>\n",
       "<table border=\"1\" class=\"dataframe\">\n",
       "  <thead>\n",
       "    <tr style=\"text-align: right;\">\n",
       "      <th></th>\n",
       "      <th>name</th>\n",
       "      <th>location</th>\n",
       "      <th>park_id</th>\n",
       "      <th>start_date</th>\n",
       "      <th>end_date</th>\n",
       "      <th>description</th>\n",
       "      <th>permit_number</th>\n",
       "      <th>phone</th>\n",
       "      <th>website</th>\n",
       "      <th>type_name</th>\n",
       "    </tr>\n",
       "  </thead>\n",
       "  <tbody>\n",
       "    <tr>\n",
       "      <th>0</th>\n",
       "      <td>Central Park Food Cart</td>\n",
       "      <td>At the entrance to the path leading to the Pon...</td>\n",
       "      <td>M010</td>\n",
       "      <td>2014-01-01</td>\n",
       "      <td>2018-12-31</td>\n",
       "      <td>None</td>\n",
       "      <td>M10-61-ED-C</td>\n",
       "      <td>None</td>\n",
       "      <td>None</td>\n",
       "      <td>Food Cart</td>\n",
       "    </tr>\n",
       "    <tr>\n",
       "      <th>1</th>\n",
       "      <td>Central Park Food Cart</td>\n",
       "      <td>At the intersection of paths, east side of Eas...</td>\n",
       "      <td>M010</td>\n",
       "      <td>2013-03-08</td>\n",
       "      <td>2016-12-31</td>\n",
       "      <td>None</td>\n",
       "      <td>M10-70-ED-C</td>\n",
       "      <td>None</td>\n",
       "      <td>None</td>\n",
       "      <td>Food Cart</td>\n",
       "    </tr>\n",
       "    <tr>\n",
       "      <th>2</th>\n",
       "      <td>Central Park Food Cart</td>\n",
       "      <td>Central Park Mall Area, northwest side of the ...</td>\n",
       "      <td>M010</td>\n",
       "      <td>2010-02-23</td>\n",
       "      <td>2014-12-31</td>\n",
       "      <td>None</td>\n",
       "      <td>M10-72-1A-C</td>\n",
       "      <td>None</td>\n",
       "      <td>None</td>\n",
       "      <td>Food Cart</td>\n",
       "    </tr>\n",
       "    <tr>\n",
       "      <th>3</th>\n",
       "      <td>Central Park Food Cart</td>\n",
       "      <td>West 72 Street path, west of Daniel Webster</td>\n",
       "      <td>M010</td>\n",
       "      <td>2010-03-25</td>\n",
       "      <td>2014-12-31</td>\n",
       "      <td>None</td>\n",
       "      <td>M10-72-3-C</td>\n",
       "      <td>None</td>\n",
       "      <td>None</td>\n",
       "      <td>Food Cart</td>\n",
       "    </tr>\n",
       "    <tr>\n",
       "      <th>4</th>\n",
       "      <td>Central Park Food Cart</td>\n",
       "      <td>East Drive and 72 Street</td>\n",
       "      <td>M010</td>\n",
       "      <td>2015-06-27</td>\n",
       "      <td>2019-12-31</td>\n",
       "      <td>None</td>\n",
       "      <td>M10-72-ED-C</td>\n",
       "      <td>None</td>\n",
       "      <td>None</td>\n",
       "      <td>Food Cart</td>\n",
       "    </tr>\n",
       "  </tbody>\n",
       "</table>\n",
       "</div>"
      ],
      "text/plain": [
       "                     name                                           location  \\\n",
       "0  Central Park Food Cart  At the entrance to the path leading to the Pon...   \n",
       "1  Central Park Food Cart  At the intersection of paths, east side of Eas...   \n",
       "2  Central Park Food Cart  Central Park Mall Area, northwest side of the ...   \n",
       "3  Central Park Food Cart        West 72 Street path, west of Daniel Webster   \n",
       "4  Central Park Food Cart                           East Drive and 72 Street   \n",
       "\n",
       "  park_id  start_date    end_date description permit_number phone website  \\\n",
       "0    M010  2014-01-01  2018-12-31        None   M10-61-ED-C  None    None   \n",
       "1    M010  2013-03-08  2016-12-31        None   M10-70-ED-C  None    None   \n",
       "2    M010  2010-02-23  2014-12-31        None   M10-72-1A-C  None    None   \n",
       "3    M010  2010-03-25  2014-12-31        None    M10-72-3-C  None    None   \n",
       "4    M010  2015-06-27  2019-12-31        None   M10-72-ED-C  None    None   \n",
       "\n",
       "   type_name  \n",
       "0  Food Cart  \n",
       "1  Food Cart  \n",
       "2  Food Cart  \n",
       "3  Food Cart  \n",
       "4  Food Cart  "
      ]
     },
     "execution_count": 15,
     "metadata": {},
     "output_type": "execute_result"
    }
   ],
   "source": [
    "eateries.head()"
   ]
  },
  {
   "cell_type": "code",
   "execution_count": 16,
   "metadata": {
    "collapsed": false
   },
   "outputs": [
    {
     "data": {
      "text/plain": [
       "array([ 'At the entrance to the path leading to the Pond, East Drive & E 61st Street',\n",
       "       'At the intersection of paths, east side of East Drive, at approximately East 70 Street',\n",
       "       'Central Park Mall Area, northwest side of the Bandshell',\n",
       "       'West 72 Street path, west of Daniel Webster',\n",
       "       'East Drive and 72 Street',\n",
       "       'West Drive, between West 74 and West 75 streets',\n",
       "       'East of West Drive, West 81 Street path to Delacorte Theater',\n",
       "       'East 84 Street, pedestrian path, west side of East Drive',\n",
       "       'Northwest corner of Heckscher ballfields',\n",
       "       'East side of West Drive at West 96 Street',\n",
       "       'The northeast corner of Central Park West and West 85th Street',\n",
       "       'Central Park West & West 93rd Street',\n",
       "       'Central Park West & West 96 Street', '8 Various Locations',\n",
       "       'Near the entrance to West 91 Street Playground',\n",
       "       'Northern end of West 96th Street Tennis',\n",
       "       'On Riverside Drive and West 151st Street',\n",
       "       '37th Avenue between 112th Street and 113th Street',\n",
       "       'Astoria Park next to Field House',\n",
       "       'Broadway, between 78th Street and 79th Street',\n",
       "       'North corner of Soccer Field #5',\n",
       "       'Around the outer pathway of the Unisphere',\n",
       "       'Eisenhower Promenade & Avenue of Commerce',\n",
       "       'Flushing Meadows Corona Park, the designated volleyball Area',\n",
       "       'Flushing Meadows Corona Park, in the the designated volleyball area',\n",
       "       'In the designated volleyball area',\n",
       "       'Near Paddleball courts at Broadway & West 241 Street',\n",
       "       'Van Cortlandt Avenue East & Reservoir Oval East',\n",
       "       'Outside playground #1, at Middleton Road',\n",
       "       'Jerome Ave. between E. 191st Street and E. 193rd Street',\n",
       "       '52nd Street and 39th Road',\n",
       "       'On Broadway between W. 240th St. and W. 263rd St., and by the swimming pool entrance',\n",
       "       'East 128th Street and 3rd Avenue',\n",
       "       'Along Irving St., b/w Star & Suydam Streets',\n",
       "       'Near northern intersection of Avenues of Progress & Commerce',\n",
       "       '111th St. & 46th Ave.', 'E. Kingsbridge Rd. & Fordham & Webster',\n",
       "       'E 172 St. Bw Morris and Teller Aves.',\n",
       "       'Corner of Fordham & Webster', 'Theriot, Taylor and Story Aves.',\n",
       "       'E. Side of Riverside Dr. & W. 122 St.',\n",
       "       'West Side of WD at W 62nd', 'Curbside of CPS and CPW',\n",
       "       'W 158th St. Riverside Park', 'Ramona Avenue & Lenevar Avenue',\n",
       "       'East 177th Street, Wstchester Avenue, Virginia Avenue',\n",
       "       'GRAVESEND BAY, 21 & CROPSEY',\n",
       "       'South West Corner of baseball fields',\n",
       "       '44th Street btw 5th and 7th Avenues', 'Grand Army Plaza',\n",
       "       'West 148 Street and Riverside Park', 'South corner of track',\n",
       "       'Paul Avenue and 205 Street', 'East 60th and Strickland',\n",
       "       'Hecksher Playground',\n",
       "       'COLUMBUS CIRCLE, EAST OF STATUE, ON PLAZA OR AT CURB',\n",
       "       'MALL AREA. S.W. OF BANDSHELL',\n",
       "       'BETHESDA UPPER TERRACE ALONG 72 ND ST. TRANSVERSE',\n",
       "       'NORTH OF 72 ST. TRANVERSE, PATH LEADING TO CHERRY HILL',\n",
       "       'EAST 72ND ST. PATH LEADING TO CONSERVATORY WATERS',\n",
       "       'BOW BRIDGE, N.  PATH LEADING TO CHERRY HILL',\n",
       "       'EAST DRIVE AND EAST 79TH , PATH TO GREAT LAWN',\n",
       "       'NEAR THE ZOO ENTRANCE',\n",
       "       \"NORTH OF UNDERPASS NEAR TISCH CHILDREN'S ZOO\",\n",
       "       'LITERARY WALK ACROSS FROM R. BURNS STATUE',\n",
       "       'EAST SIDE OF SHEEP MEADOW NEAR 66 ST.',\n",
       "       'EAST END OF OF THE GREAT LAWN, EAST 82 ST.',\n",
       "       'SOUTHEND OF PATH LEADING TO HECKSCHER BLDG.',\n",
       "       'NORTHEND OF HECKSCHER PLAYGROUND, WEST 63 ST.',\n",
       "       'PATH LEDING INTO PARK BETWEEN WEST 106 AND W108 STS.',\n",
       "       'WEST 109 ST & MALCOLM X, INSIDE PARK (AT FORK)',\n",
       "       'Between Bay Parkway & Avenue P',\n",
       "       '4th Avenue to 5th Avenue, between 3rd Street & 5th Street',\n",
       "       'Bay Street between Henry & Clinton streets',\n",
       "       '5th Street entrance off of Avenue and Ocean Park',\n",
       "       'East 17 Street & East 18 Street',\n",
       "       'Southern corner of Coney Island Avenue & Brightwater',\n",
       "       'corner of Columbia Terrace & Montague Street',\n",
       "       'Avenue H and Avenue I between East 54th  and East 55th streets',\n",
       "       'Avenue S between East 14th & East 16th streets',\n",
       "       'Bradhurst Avenue between West 145 & West 155 streets',\n",
       "       'West 107 to West 108 street and Amsterdam to Columbus Avenues',\n",
       "       'West 170 Street between Audubon & St. Nichol avenues',\n",
       "       'Amsterdam Avenue and West 172 Street',\n",
       "       'Amsterdam Avenue and West 173 Street',\n",
       "       'Amsterdam Avenue & West 177 Street',\n",
       "       'Amsterdam Avenue and West 180 Street',\n",
       "       'Seaman Avenue & West 204 Street to West 214st Street & Indian Road',\n",
       "       'Dry Harbor Road to 70th Street', '33rd Avenue & 35th Avenue',\n",
       "       '30th Road between 45th & 46th streets',\n",
       "       '73rd Avenue, Frances Lewis Boulevard, and 210th Street',\n",
       "       'Stanhope Street & Grandview Avenue',\n",
       "       '104 Street, between 41 & 42 Avenues',\n",
       "       'Utopia Parkway near Lie & Underhill roads',\n",
       "       '34th Avenue between 77 & 78 streets',\n",
       "       '236th Street & 121st Avenue',\n",
       "       'Fresh Meadows playground at 67th Avenue & 173rd Street',\n",
       "       'Vleigh Place & 141 Street', '236th Stret & 121st Avenue',\n",
       "       'Union Street and 31st Road (31st Road Side), or 31st Drive (west of the park entrance)',\n",
       "       '27th Avenue', 'Woodward Ave., Woodbine St., and Fairview Ave',\n",
       "       'Shore Blvd., Hoyt Ave. and Ditmars Blvd',\n",
       "       'At the parking lot at Hoyt Ave', '121st Avenue & 237 Street',\n",
       "       '43rd Street & 47th Avenue',\n",
       "       'Perimeter of Park Hoyt Avenue North to South',\n",
       "       '84th Street Between 25th Avenue & 30th Avenue',\n",
       "       '135th Avenue, 131st & 132nd streets',\n",
       "       'Near Unisphere, along the pathway',\n",
       "       'Along the outer pathway of Meadow Lake',\n",
       "       'Near the Hall of Science', 'Near South Bridge By Queens Zoo',\n",
       "       'Popenhusen Avenue and College Place',\n",
       "       'Richmond Parkway, Bloomingdale Road, and Lenevar Avenue',\n",
       "       'East 172 Street between Teller & Morris avenues',\n",
       "       'North corner of Valenti Avenue & East 183 Street',\n",
       "       'Park Mall near Woodlawn Playground',\n",
       "       'Southwest corner of Metcalf and Lafayette avenues',\n",
       "       'Morrison& Lafayette avenues',\n",
       "       'Lafayette Ave., btwn. Boynton Ave. and Colgate Ave.',\n",
       "       'Bradford, Edison, Lasalle & Waterbury avenues',\n",
       "       'West Fordham Road & University Avenue',\n",
       "       '254th Street to 256th Street & Mosholu Avenue to Riverdale',\n",
       "       'Entrance at E. 174th Street, Bronx River Ave.',\n",
       "       \"St. Raymond Avenue between O'dell & Purdy streets\",\n",
       "       'Van Nest Avenue between Tomilson & Haight streets',\n",
       "       'Either Matthews Avenue or Muliner Avenue, Parkside',\n",
       "       'Burk, Ely & Gunter Avenues',\n",
       "       'Between Gun Hill Rd. and Waring Ave.',\n",
       "       'Between Brady & Lydig Avenues',\n",
       "       'West 235th Street & Independence Avenue',\n",
       "       'West 230 Street & Kingsbridge', 'Teller Avenue & 164 Street',\n",
       "       'Lafayette Ave. and Bolton Ave.',\n",
       "       'Prospect Avenue, E. 181st Street',\n",
       "       'Tiffany Street, Viele Avenue, and the East River',\n",
       "       'Rice Stadium Place', 'Bruckner Boulevard & Hutch Parkway',\n",
       "       'Next to baseball field located along Middletown Road',\n",
       "       \"Rodman's Neck Parking Lot\",\n",
       "       'Mount Eden Pkwy, Morris and Eastburn Aves.',\n",
       "       '3 Playgrounds on Olinville Avenue, Zimmerman Playground',\n",
       "       'Mosholu Parkway South & North Between Van Cortlandt',\n",
       "       'F. Lewis Blvd., Union Turnpike and 193rd St.',\n",
       "       \"Veteran's Ave. between E. 66th and E. 68th Streets\",\n",
       "       'Southwest corner of Magenta Street and Holland Ave.',\n",
       "       'Peace Park/Cleopatra Plgd: Clay Ave., and Cross Bronx Service Rd',\n",
       "       'Webster Avenue Community Plgd. And Webster Memorial Plgd.: Park Ave. and 183rd St.; Park Ave. and 188th St.',\n",
       "       '30th St. and 30th Ave.',\n",
       "       'Olmstead, Turnbull, Castle Hill, Lafayette Aves',\n",
       "       'Colonial Road between 67th and 68th Streets',\n",
       "       '164th St. and Booth Memorial Ave.', '177th St. & 73rd Ave.',\n",
       "       'Clawson St. & Adelaide Av.',\n",
       "       \"People's Park: Brook Ave, St Anns Ave, E 141 St; PS18 & Paterson Houses Plgd.: Morris Ave, E 148 St, College Ave, E 145 St; JHS149 Plgd.: 3 Ave, E 144 To E 145 Sts; Willis Plgd.; E 139 St, E 140 St, Willis & Alexander Aves\",\n",
       "       'Kelly Plgd./St. MaryÂ&euro;&trade;s Houses Plgd./PS5 Plgd./John Adams Plgd./PS161 Plgd./PS157 Plgd.',\n",
       "       'Vernon Blvd. & Broadway', '25th Ave. & 76th St.',\n",
       "       '84th Ave. & 164 Pl.', 'Madison & Filmore Aves.',\n",
       "       '56th Street, in front of hospital', 'Skillsman Ave. & 43rd St.',\n",
       "       'Seguine Ave. Near Water',\n",
       "       'Northwest Corner of East 183rd Street & Valentine Avenue',\n",
       "       'Dead End of Soundview Ave.',\n",
       "       'Watson Ave. & Soundview Ave. b/b Fields',\n",
       "       'Main Entrance to Park Next to Park House',\n",
       "       'Dawson Pl. & Dawson Ave.',\n",
       "       'Austin St. Plgd. & Austin St. b/w 76th and 78th sts.',\n",
       "       'Entrance to 31st Ave. b/w 61 and 68th sts.',\n",
       "       'Rufus King Park at 153rd St.', 'Bedford Ave. & 12th',\n",
       "       'Adjacent to Harlem River Drive', 'Van Wyck Expressway, 116th',\n",
       "       'Vernon Blvd & 41st Avenue', 'Yellowstone BL & 68th Street',\n",
       "       'Country House Road', 'Crotona Park East & Charlotte Street',\n",
       "       'At Entrance to Hill & Dale Playground at East 173rd Street',\n",
       "       'North from Prospect Street to Clinton Street',\n",
       "       'East 173rd Street & Fulton Avenue At Entrance to Pool',\n",
       "       'Broadway Between West 240 & West 263rd Street',\n",
       "       'West Gun Hill Road & Jerome Avenue',\n",
       "       'East 72nd Street & Park Drive North',\n",
       "       'Central Park West & West 67th Street', '1 Margaret Corbin Drive',\n",
       "       'Rotunda at the West 79 Street Marina',\n",
       "       '201-10 Cross Island Parkway', '52-11 111th Street',\n",
       "       '1 Worlds Fair Marina', '200 Huguenot Avenue',\n",
       "       '300 Father Capodanno Boulevard', '1150 Clove Road',\n",
       "       'Dyckman Marina Restaurant', '1 Battery Park Plaza',\n",
       "       'Union Square Park', 'Arthur Kill Road & Richmond Avenue',\n",
       "       '595 Bedford Avenue at the corner of Bedford Avenue and Williamsburg Street',\n",
       "       'Adjacent to the beautiful Conservatory Waters, between 72nd & 75th streets',\n",
       "       'Between 69th and 70th Streets and between Terrace Drive and Sheep Meadow',\n",
       "       'Heckscher Ballfields, south of 65th Street & west of the carousel',\n",
       "       'Basement of 830 5th Avenue', '342 East 47th Street',\n",
       "       'Southeast corner of Madison Square Park-near Madison Avenue and East 23rd Street',\n",
       "       '105th Street and Riverside Park', 'West 70 Street near Pier I',\n",
       "       'Beach 86th Street, Beach 97th Street, and Beach 106th Street',\n",
       "       'Astoria Pool',\n",
       "       'Ederle Terrace, 61-30 Van Wyck Expressway, overlooking Meadow Lake',\n",
       "       'Olmsted Center', 'The NYC Police Academy, Rodman',\n",
       "       '3 Locations along the beach', '1320 Hutchinson River Parkway',\n",
       "       '19 West 170th Street', 'Joralemon Street between Adams & Court',\n",
       "       'Harlem Meer', 'Between East Houston Street and East First Street',\n",
       "       'Pavilion', 'Battery Park', 'Beach 17th Street',\n",
       "       '72nd Street and Broadway',\n",
       "       'North side of Washington Square at Sullivan Street',\n",
       "       'Inside the northwest entrance, Washington Square North & Washington Square West',\n",
       "       'Pelham Parkway South, between Wilson Avenue and Eastchester Road',\n",
       "       'Great Lawn, east of the Delacorte Theater',\n",
       "       'At the intersection of Bay Street and Henry Street',\n",
       "       \"West of the Scholar's Gate entrance at 60th Street\",\n",
       "       'Within roadbed parkway on west side of Broadway just below 25th St, facing Worth Square',\n",
       "       'b/w Columbus Avenue & Broadway, W65th & W66th Streets',\n",
       "       'Verdi Square, between 72 and 73 Streets',\n",
       "       'Hudson Street & W. 11st Street',\n",
       "       'Spring St. & Ave. of the Americas',\n",
       "       'Little Red Sq., Bleeker St. & Ave. of the Americas',\n",
       "       'Western Border of Cobblestone Plaza',\n",
       "       'Southwest Corner of East 72 Street and 5th Avenue',\n",
       "       'Eastern Plaza of City Hall',\n",
       "       'WEST SIDE OF EAST DRIVE AND 63RD ST.',\n",
       "       'COLUMBUS CIR. BEHIND THE USS MAINE MONUMENT',\n",
       "       'Broadway, between Elmhurst & Britton Ave. ',\n",
       "       'E. 177 Street, Westchester Avenue, and Virginia Avenue',\n",
       "       'E. Tremont Ave., Westchester Ave., and Lane Ave.',\n",
       "       'East 169th Street, Boston Road'], dtype=object)"
      ]
     },
     "execution_count": 16,
     "metadata": {},
     "output_type": "execute_result"
    }
   ],
   "source": [
    "eateries.location.unique()"
   ]
  },
  {
   "cell_type": "code",
   "execution_count": 17,
   "metadata": {
    "collapsed": false
   },
   "outputs": [
    {
     "data": {
      "text/plain": [
       "array(['Food Cart', 'Mobile Food Truck', 'Restaurant', 'Snack Bar',\n",
       "       'Specialty Cart', 'Fruit & Vegetable Cart'], dtype=object)"
      ]
     },
     "execution_count": 17,
     "metadata": {},
     "output_type": "execute_result"
    }
   ],
   "source": [
    "eateries.type_name.unique()"
   ]
  },
  {
   "cell_type": "code",
   "execution_count": 18,
   "metadata": {
    "collapsed": false
   },
   "outputs": [
    {
     "data": {
      "text/plain": [
       "array(['East 72nd Street & Park Drive North',\n",
       "       'Central Park West & West 67th Street', '1 Margaret Corbin Drive',\n",
       "       'Rotunda at the West 79 Street Marina',\n",
       "       '201-10 Cross Island Parkway', '52-11 111th Street',\n",
       "       '1 Worlds Fair Marina', '200 Huguenot Avenue',\n",
       "       '300 Father Capodanno Boulevard', '1150 Clove Road',\n",
       "       'Dyckman Marina Restaurant', '1 Battery Park Plaza',\n",
       "       'Union Square Park', 'Arthur Kill Road & Richmond Avenue'], dtype=object)"
      ]
     },
     "execution_count": 18,
     "metadata": {},
     "output_type": "execute_result"
    }
   ],
   "source": [
    "eateries[eateries.type_name == 'Restaurant'].location.unique()"
   ]
  },
  {
   "cell_type": "code",
   "execution_count": 19,
   "metadata": {
    "collapsed": true
   },
   "outputs": [],
   "source": [
    "boro_names = {'X': 'Bronx',\n",
    "'B': 'Brooklyn',\n",
    "'M': 'Manhattan',\n",
    "'Q': 'Queens',\n",
    "'R': 'Staten Island'}"
   ]
  },
  {
   "cell_type": "code",
   "execution_count": 20,
   "metadata": {
    "collapsed": false
   },
   "outputs": [
    {
     "data": {
      "text/html": [
       "<div>\n",
       "<table border=\"1\" class=\"dataframe\">\n",
       "  <thead>\n",
       "    <tr style=\"text-align: right;\">\n",
       "      <th></th>\n",
       "      <th>name</th>\n",
       "      <th>location</th>\n",
       "      <th>park_id</th>\n",
       "      <th>start_date</th>\n",
       "      <th>end_date</th>\n",
       "      <th>description</th>\n",
       "      <th>permit_number</th>\n",
       "      <th>phone</th>\n",
       "      <th>website</th>\n",
       "      <th>type_name</th>\n",
       "      <th>boro</th>\n",
       "    </tr>\n",
       "  </thead>\n",
       "  <tbody>\n",
       "    <tr>\n",
       "      <th>0</th>\n",
       "      <td>Central Park Food Cart</td>\n",
       "      <td>At the entrance to the path leading to the Pon...</td>\n",
       "      <td>M010</td>\n",
       "      <td>2014-01-01</td>\n",
       "      <td>2018-12-31</td>\n",
       "      <td>None</td>\n",
       "      <td>M10-61-ED-C</td>\n",
       "      <td>None</td>\n",
       "      <td>None</td>\n",
       "      <td>Food Cart</td>\n",
       "      <td>Manhattan</td>\n",
       "    </tr>\n",
       "    <tr>\n",
       "      <th>1</th>\n",
       "      <td>Central Park Food Cart</td>\n",
       "      <td>At the intersection of paths, east side of Eas...</td>\n",
       "      <td>M010</td>\n",
       "      <td>2013-03-08</td>\n",
       "      <td>2016-12-31</td>\n",
       "      <td>None</td>\n",
       "      <td>M10-70-ED-C</td>\n",
       "      <td>None</td>\n",
       "      <td>None</td>\n",
       "      <td>Food Cart</td>\n",
       "      <td>Manhattan</td>\n",
       "    </tr>\n",
       "    <tr>\n",
       "      <th>2</th>\n",
       "      <td>Central Park Food Cart</td>\n",
       "      <td>Central Park Mall Area, northwest side of the ...</td>\n",
       "      <td>M010</td>\n",
       "      <td>2010-02-23</td>\n",
       "      <td>2014-12-31</td>\n",
       "      <td>None</td>\n",
       "      <td>M10-72-1A-C</td>\n",
       "      <td>None</td>\n",
       "      <td>None</td>\n",
       "      <td>Food Cart</td>\n",
       "      <td>Manhattan</td>\n",
       "    </tr>\n",
       "    <tr>\n",
       "      <th>3</th>\n",
       "      <td>Central Park Food Cart</td>\n",
       "      <td>West 72 Street path, west of Daniel Webster</td>\n",
       "      <td>M010</td>\n",
       "      <td>2010-03-25</td>\n",
       "      <td>2014-12-31</td>\n",
       "      <td>None</td>\n",
       "      <td>M10-72-3-C</td>\n",
       "      <td>None</td>\n",
       "      <td>None</td>\n",
       "      <td>Food Cart</td>\n",
       "      <td>Manhattan</td>\n",
       "    </tr>\n",
       "    <tr>\n",
       "      <th>4</th>\n",
       "      <td>Central Park Food Cart</td>\n",
       "      <td>East Drive and 72 Street</td>\n",
       "      <td>M010</td>\n",
       "      <td>2015-06-27</td>\n",
       "      <td>2019-12-31</td>\n",
       "      <td>None</td>\n",
       "      <td>M10-72-ED-C</td>\n",
       "      <td>None</td>\n",
       "      <td>None</td>\n",
       "      <td>Food Cart</td>\n",
       "      <td>Manhattan</td>\n",
       "    </tr>\n",
       "  </tbody>\n",
       "</table>\n",
       "</div>"
      ],
      "text/plain": [
       "                     name                                           location  \\\n",
       "0  Central Park Food Cart  At the entrance to the path leading to the Pon...   \n",
       "1  Central Park Food Cart  At the intersection of paths, east side of Eas...   \n",
       "2  Central Park Food Cart  Central Park Mall Area, northwest side of the ...   \n",
       "3  Central Park Food Cart        West 72 Street path, west of Daniel Webster   \n",
       "4  Central Park Food Cart                           East Drive and 72 Street   \n",
       "\n",
       "  park_id  start_date    end_date description permit_number phone website  \\\n",
       "0    M010  2014-01-01  2018-12-31        None   M10-61-ED-C  None    None   \n",
       "1    M010  2013-03-08  2016-12-31        None   M10-70-ED-C  None    None   \n",
       "2    M010  2010-02-23  2014-12-31        None   M10-72-1A-C  None    None   \n",
       "3    M010  2010-03-25  2014-12-31        None    M10-72-3-C  None    None   \n",
       "4    M010  2015-06-27  2019-12-31        None   M10-72-ED-C  None    None   \n",
       "\n",
       "   type_name       boro  \n",
       "0  Food Cart  Manhattan  \n",
       "1  Food Cart  Manhattan  \n",
       "2  Food Cart  Manhattan  \n",
       "3  Food Cart  Manhattan  \n",
       "4  Food Cart  Manhattan  "
      ]
     },
     "execution_count": 20,
     "metadata": {},
     "output_type": "execute_result"
    }
   ],
   "source": [
    "eateries['boro'] = eateries.park_id.apply(lambda x: boro_names[x[0]])\n",
    "eateries.head()"
   ]
  },
  {
   "cell_type": "code",
   "execution_count": 21,
   "metadata": {
    "collapsed": false
   },
   "outputs": [
    {
     "data": {
      "text/plain": [
       "(15, 11)"
      ]
     },
     "execution_count": 21,
     "metadata": {},
     "output_type": "execute_result"
    }
   ],
   "source": [
    "restaurants = eateries[eateries['type_name'] == 'Restaurant']\n",
    "restaurants.shape"
   ]
  },
  {
   "cell_type": "code",
   "execution_count": 29,
   "metadata": {
    "collapsed": false
   },
   "outputs": [
    {
     "data": {
      "text/plain": [
       "Index(['index', 'CAMIS', 'DBA', 'BORO', 'BUILDING', 'STREET', 'ZIPCODE',\n",
       "       'PHONE', 'CUISINE DESCRIPTION', 'INSPECTION DATE', 'ACTION',\n",
       "       'VIOLATION CODE', 'VIOLATION DESCRIPTION', 'CRITICAL FLAG', 'SCORE',\n",
       "       'GRADE', 'GRADE DATE', 'RECORD DATE', 'INSPECTION TYPE'],\n",
       "      dtype='object')"
      ]
     },
     "execution_count": 29,
     "metadata": {},
     "output_type": "execute_result"
    }
   ],
   "source": [
    "df.columns"
   ]
  },
  {
   "cell_type": "code",
   "execution_count": 51,
   "metadata": {
    "collapsed": false
   },
   "outputs": [
    {
     "data": {
      "text/plain": [
       "BORO\n",
       "BRONX             37616\n",
       "BROOKLYN         104665\n",
       "MANHATTAN        170055\n",
       "Missing              52\n",
       "QUEENS            98773\n",
       "STATEN ISLAND     14598\n",
       "Name: PHONE, dtype: int64"
      ]
     },
     "execution_count": 51,
     "metadata": {},
     "output_type": "execute_result"
    }
   ],
   "source": [
    "complaint_count = df.groupby('BORO')['PHONE'].count()\n",
    "complaint_count"
   ]
  },
  {
   "cell_type": "code",
   "execution_count": 52,
   "metadata": {
    "collapsed": false
   },
   "outputs": [],
   "source": [
    "c = complaint_count.reset_index().rename(columns={'PHONE': 'Count of Violations'})"
   ]
  },
  {
   "cell_type": "code",
   "execution_count": 54,
   "metadata": {
    "collapsed": false
   },
   "outputs": [
    {
     "data": {
      "text/html": [
       "<div>\n",
       "<table border=\"1\" class=\"dataframe\">\n",
       "  <thead>\n",
       "    <tr style=\"text-align: right;\">\n",
       "      <th></th>\n",
       "      <th>BORO</th>\n",
       "      <th>Count of Violations</th>\n",
       "    </tr>\n",
       "  </thead>\n",
       "  <tbody>\n",
       "    <tr>\n",
       "      <th>2</th>\n",
       "      <td>MANHATTAN</td>\n",
       "      <td>170055</td>\n",
       "    </tr>\n",
       "    <tr>\n",
       "      <th>1</th>\n",
       "      <td>BROOKLYN</td>\n",
       "      <td>104665</td>\n",
       "    </tr>\n",
       "    <tr>\n",
       "      <th>4</th>\n",
       "      <td>QUEENS</td>\n",
       "      <td>98773</td>\n",
       "    </tr>\n",
       "    <tr>\n",
       "      <th>0</th>\n",
       "      <td>BRONX</td>\n",
       "      <td>37616</td>\n",
       "    </tr>\n",
       "    <tr>\n",
       "      <th>5</th>\n",
       "      <td>STATEN ISLAND</td>\n",
       "      <td>14598</td>\n",
       "    </tr>\n",
       "    <tr>\n",
       "      <th>3</th>\n",
       "      <td>Missing</td>\n",
       "      <td>52</td>\n",
       "    </tr>\n",
       "  </tbody>\n",
       "</table>\n",
       "</div>"
      ],
      "text/plain": [
       "            BORO  Count of Violations\n",
       "2      MANHATTAN               170055\n",
       "1       BROOKLYN               104665\n",
       "4         QUEENS                98773\n",
       "0          BRONX                37616\n",
       "5  STATEN ISLAND                14598\n",
       "3        Missing                   52"
      ]
     },
     "execution_count": 54,
     "metadata": {},
     "output_type": "execute_result"
    }
   ],
   "source": [
    "c = c.sort_values('Count of Violations', ascending = False)\n",
    "c"
   ]
  },
  {
   "cell_type": "code",
   "execution_count": null,
   "metadata": {
    "collapsed": true
   },
   "outputs": [],
   "source": []
  },
  {
   "cell_type": "code",
   "execution_count": 49,
   "metadata": {
    "collapsed": true
   },
   "outputs": [],
   "source": [
    "from plotly.offline import download_plotlyjs, init_notebook_mode, plot, iplot"
   ]
  },
  {
   "cell_type": "code",
   "execution_count": 50,
   "metadata": {
    "collapsed": false
   },
   "outputs": [
    {
     "data": {
      "text/plain": [
       "'file:///Users/dpl/code/data_analytics_course/ExercisesByWeek/04-SQL-noSQL/02-noSQL/temp-plot.html'"
      ]
     },
     "execution_count": 50,
     "metadata": {},
     "output_type": "execute_result"
    }
   ],
   "source": [
    "plot({\n",
    "    'data': [Bar(x=c['BORO'], y=c['Count of Violations'])],\n",
    "    'layout': { \n",
    "        'margin': {'b': 150}, # Make the bottom margin a bit bigger to handle the long text\n",
    "        'xaxis': {'tickangle': 40}} # Angle the labels a bit\n",
    "    })"
   ]
  },
  {
   "cell_type": "code",
   "execution_count": 48,
   "metadata": {
    "collapsed": false
   },
   "outputs": [
    {
     "data": {
      "text/plain": [
       "'file:///Users/dpl/code/data_analytics_course/ExercisesByWeek/04-SQL-noSQL/02-noSQL/temp-plot.html'"
      ]
     },
     "execution_count": 48,
     "metadata": {},
     "output_type": "execute_result"
    }
   ],
   "source": [
    "from plotly.graph_objs import Scatter, Figure, Layout\n",
    "\n",
    "plot([Scatter(x=[1, 2, 3], y=[3, 1, 6])])"
   ]
  },
  {
   "cell_type": "code",
   "execution_count": 14,
   "metadata": {
    "collapsed": false
   },
   "outputs": [
    {
     "name": "stderr",
     "output_type": "stream",
     "text": [
      "/Users/dpl/anaconda3/lib/python3.6/site-packages/bokeh/util/deprecation.py:34: BokehDeprecationWarning: Setting Plot property 'title' using a string was deprecated in 0.12.0,\n",
      "            and will be removed. The title is now an object on Plot (which holds all of it's\n",
      "            styling properties). Please use Plot.title.text instead.\n",
      "\n",
      "            SERVER USERS: If you were using plot.title to have the server update the plot title\n",
      "            in a callback, you MUST update to plot.title.text as the title object cannot currently\n",
      "            be replaced after initialization.\n",
      "            \n",
      "  warn(message)\n",
      "ERROR:/Users/dpl/anaconda3/lib/python3.6/site-packages/bokeh/core/validation/check.py:E-1005 (MISSING_GOOGLE_API_KEY): Google now requires API keys for all Google Maps usage: GMapPlot(id='b12787c8-4ae2-4b36-bef4-c5027afea26e', ...)\n"
     ]
    }
   ],
   "source": [
    "from bokeh.io import output_file, show\n",
    "from bokeh.models import (\n",
    "  GMapPlot, GMapOptions, ColumnDataSource, Circle, DataRange1d, PanTool, WheelZoomTool, BoxSelectTool\n",
    ")\n",
    "\n",
    "map_options = GMapOptions(lat=30.29, lng=-97.73, map_type=\"roadmap\", zoom=11)\n",
    "\n",
    "plot = GMapPlot(\n",
    "    x_range=DataRange1d(), y_range=DataRange1d(), map_options=map_options, title=\"Austin\"\n",
    ")\n",
    "\n",
    "source = ColumnDataSource(\n",
    "    data=dict(\n",
    "        lat=[30.29, 30.20, 30.29],\n",
    "        lon=[-97.70, -97.74, -97.78],\n",
    "    )\n",
    ")\n",
    "\n",
    "circle = Circle(x=\"lon\", y=\"lat\", size=15, fill_color=\"blue\", fill_alpha=0.8, line_color=None)\n",
    "plot.add_glyph(source, circle)\n",
    "\n",
    "plot.add_tools(PanTool(), WheelZoomTool(), BoxSelectTool())\n",
    "output_file(\"gmap_plot.html\")\n",
    "show(plot)"
   ]
  },
  {
   "cell_type": "code",
   "execution_count": null,
   "metadata": {
    "collapsed": true
   },
   "outputs": [],
   "source": []
  }
 ],
 "metadata": {
  "kernelspec": {
   "display_name": "Python 3",
   "language": "python",
   "name": "python3"
  },
  "language_info": {
   "codemirror_mode": {
    "name": "ipython",
    "version": 3
   },
   "file_extension": ".py",
   "mimetype": "text/x-python",
   "name": "python",
   "nbconvert_exporter": "python",
   "pygments_lexer": "ipython3",
   "version": "3.6.0"
  }
 },
 "nbformat": 4,
 "nbformat_minor": 2
}
